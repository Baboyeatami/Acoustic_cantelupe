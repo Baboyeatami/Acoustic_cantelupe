{
 "cells": [
  {
   "cell_type": "code",
   "execution_count": 2,
   "id": "e7d68bdd-d4ad-4e57-90f2-6fcc8f4f7149",
   "metadata": {},
   "outputs": [
    {
     "name": "stdout",
     "output_type": "stream",
     "text": [
      "🔍 Statistical Comparison Between Manual and Automated Groups\n",
      "\n",
      "📈 Analyzing 'Germinated':\n",
      "  - Shapiro Manual: W = 0.8423, p = 0.0000 → Not normal\n",
      "  - Shapiro Auto:   W = 0.8648, p = 0.0000 → Not normal\n",
      "  ✅ Mann-Whitney U test: U = 7632.5000, p = 0.7338\n",
      "--------------------------------------------------\n",
      "📈 Analyzing 'GerminationRate':\n",
      "  - Shapiro Manual: W = 0.9217, p = 0.0000 → Not normal\n",
      "  - Shapiro Auto:   W = 0.8705, p = 0.0000 → Not normal\n",
      "  ✅ Mann-Whitney U test: U = 171.5000, p = 0.0000\n",
      "--------------------------------------------------\n",
      "📈 Analyzing 'SeedHeight':\n",
      "  - Shapiro Manual: W = 1.0000, p = 1.0000 → Normal\n",
      "  - Shapiro Auto:   W = 1.0000, p = 1.0000 → Normal\n",
      "  ✅ Welch’s t-test: t = nan, p = nan\n",
      "--------------------------------------------------\n",
      "📈 Analyzing 'RootLength':\n",
      "  - Shapiro Manual: W = 0.6719, p = 0.0000 → Not normal\n",
      "  - Shapiro Auto:   W = 0.7142, p = 0.0000 → Not normal\n",
      "  ✅ Mann-Whitney U test: U = 13156.0000, p = 0.0000\n",
      "--------------------------------------------------\n",
      "📈 Analyzing 'GerminationTime':\n",
      "  - Shapiro Manual: W = 0.6763, p = 0.0000 → Not normal\n",
      "  - Shapiro Auto:   W = 0.7142, p = 0.0000 → Not normal\n",
      "  ✅ Mann-Whitney U test: U = 13116.5000, p = 0.0000\n",
      "--------------------------------------------------\n",
      "📈 Analyzing 'SurvivalRate':\n",
      "  - Shapiro Manual: W = 1.0000, p = 1.0000 → Normal\n",
      "  - Shapiro Auto:   W = 1.0000, p = 1.0000 → Normal\n",
      "  ✅ Welch’s t-test: t = nan, p = nan\n",
      "--------------------------------------------------\n"
     ]
    },
    {
     "name": "stderr",
     "output_type": "stream",
     "text": [
      "/Users/freshliannes.rosal/anaconda3/envs/Numerical/lib/python3.11/site-packages/scipy/stats/_axis_nan_policy.py:531: UserWarning: scipy.stats.shapiro: Input data has range zero. The results may not be accurate.\n",
      "  res = hypotest_fun_out(*samples, **kwds)\n",
      "/Users/freshliannes.rosal/anaconda3/envs/Numerical/lib/python3.11/site-packages/scipy/stats/_axis_nan_policy.py:531: RuntimeWarning: Precision loss occurred in moment calculation due to catastrophic cancellation. This occurs when the data are nearly identical. Results may be unreliable.\n",
      "  res = hypotest_fun_out(*samples, **kwds)\n"
     ]
    }
   ],
   "source": [
    "import pandas as pd\n",
    "from scipy import stats\n",
    "\n",
    "# Load Excel file\n",
    "file_path = 'morfinaltothehighestlevel.xlsx'\n",
    "df = pd.read_excel(file_path)\n",
    "\n",
    "# Clean column names\n",
    "df.columns = df.columns.str.strip()\n",
    "\n",
    "# Separate groups\n",
    "manual_group = df[df['Group'] == 'Manual']\n",
    "automated_group = df[df['Group'] == 'Automated']\n",
    "\n",
    "# Identify numeric columns\n",
    "numeric_columns = df.select_dtypes(include=['number']).columns.tolist()\n",
    "if 'Seed ID' in numeric_columns:\n",
    "    numeric_columns.remove('Seed ID')\n",
    "\n",
    "print(\"🔍 Statistical Comparison Between Manual and Automated Groups\\n\")\n",
    "\n",
    "for col in numeric_columns:\n",
    "    print(f\"📈 Analyzing '{col}':\")\n",
    "    \n",
    "    # Normality check using Shapiro-Wilk test\n",
    "    stat_m, p_m = stats.shapiro(manual_group[col])\n",
    "    stat_a, p_a = stats.shapiro(automated_group[col])\n",
    "    \n",
    "    normal_m = p_m > 0.05\n",
    "    normal_a = p_a > 0.05\n",
    "    \n",
    "    print(f\"  - Shapiro Manual: W = {stat_m:.4f}, p = {p_m:.4f} → {'Normal' if normal_m else 'Not normal'}\")\n",
    "    print(f\"  - Shapiro Auto:   W = {stat_a:.4f}, p = {p_a:.4f} → {'Normal' if normal_a else 'Not normal'}\")\n",
    "\n",
    "    if normal_m and normal_a:\n",
    "        # Both are normally distributed → use Welch’s t-test\n",
    "        t_stat, p_val = stats.ttest_ind(manual_group[col], automated_group[col], equal_var=False)\n",
    "        test_name = \"Welch’s t-test\"\n",
    "        print(f\"  ✅ {test_name}: t = {t_stat:.4f}, p = {p_val:.4f}\")\n",
    "    else:\n",
    "        # At least one not normal → use Mann-Whitney U test\n",
    "        u_stat, p_val = stats.mannwhitneyu(manual_group[col], automated_group[col], alternative='two-sided')\n",
    "        test_name = \"Mann-Whitney U test\"\n",
    "        print(f\"  ✅ {test_name}: U = {u_stat:.4f}, p = {p_val:.4f}\")\n",
    "    \n",
    "    print(\"-\" * 50)\n"
   ]
  },
  {
   "cell_type": "code",
   "execution_count": null,
   "id": "ff66eff3-9c57-430f-b0cb-1b36c0b47094",
   "metadata": {},
   "outputs": [],
   "source": []
  }
 ],
 "metadata": {
  "kernelspec": {
   "display_name": "Python 3 (ipykernel)",
   "language": "python",
   "name": "python3"
  },
  "language_info": {
   "codemirror_mode": {
    "name": "ipython",
    "version": 3
   },
   "file_extension": ".py",
   "mimetype": "text/x-python",
   "name": "python",
   "nbconvert_exporter": "python",
   "pygments_lexer": "ipython3",
   "version": "3.11.5"
  }
 },
 "nbformat": 4,
 "nbformat_minor": 5
}
