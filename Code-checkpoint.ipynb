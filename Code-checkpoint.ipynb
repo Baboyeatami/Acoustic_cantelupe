{
 "cells": [
  {
   "cell_type": "code",
   "execution_count": null,
   "id": "2def279c-d8c5-4f1a-928a-f80d7b17a808",
   "metadata": {},
   "outputs": [],
   "source": [
    "import os\n",
    "import librosa\n",
    "import numpy as np\n",
    "import pandas as pd\n",
    "from tqdm import tqdm\n"
   ]
  },
  {
   "cell_type": "code",
   "execution_count": null,
   "id": "1aebfd07-477d-4c75-914c-777ec5150e4c",
   "metadata": {},
   "outputs": [],
   "source": [
    "RIPE_DIR = \"data/ripe/\"\n",
    "UNRIPE_DIR = \"data/unripe/\"\n",
    "SAMPLE_RATE = 44100\n",
    "DURATION = 7\n"
   ]
  }
 ],
 "metadata": {
  "kernelspec": {
   "display_name": "Python 3 (ipykernel)",
   "language": "python",
   "name": "python3"
  },
  "language_info": {
   "codemirror_mode": {
    "name": "ipython",
    "version": 3
   },
   "file_extension": ".py",
   "mimetype": "text/x-python",
   "name": "python",
   "nbconvert_exporter": "python",
   "pygments_lexer": "ipython3",
   "version": "3.12.4"
  }
 },
 "nbformat": 4,
 "nbformat_minor": 5
}
